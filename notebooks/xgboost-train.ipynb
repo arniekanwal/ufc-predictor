{
 "cells": [
  {
   "cell_type": "markdown",
   "id": "557b54fd",
   "metadata": {},
   "source": [
    "# UFC Predictor\n",
    "\n",
    "Train XGBoost for UFC classification"
   ]
  },
  {
   "cell_type": "code",
   "execution_count": 77,
   "id": "493a83f2",
   "metadata": {},
   "outputs": [],
   "source": [
    "import pandas as pd\n",
    "import numpy as np\n",
    "\n",
    "from xgboost import XGBClassifier\n",
    "import xgboost as xgb\n",
    "import pickle\n",
    "\n",
    "from sklearn.preprocessing import LabelEncoder, StandardScaler\n",
    "from sklearn.ensemble import RandomForestClassifier\n",
    "from sklearn.feature_selection import RFE\n",
    "from sklearn.model_selection import train_test_split\n",
    "from sklearn.metrics import accuracy_score, classification_report, confusion_matrix, roc_auc_score\n",
    "\n",
    "import matplotlib.pyplot as plt\n",
    "import seaborn as sns"
   ]
  },
  {
   "cell_type": "code",
   "execution_count": 78,
   "id": "e8c96740",
   "metadata": {},
   "outputs": [
    {
     "name": "stdout",
     "output_type": "stream",
     "text": [
      "UFC dataframe shape: (6528, 83)\n"
     ]
    }
   ],
   "source": [
    "df = pd.read_csv('../datasets/ufc-clean.csv')\n",
    "\n",
    "# Dataset shape and basic info\n",
    "print(\"UFC dataframe shape:\" , df.shape)  \n",
    "\n",
    "# TODO: encode this columns before exporting dataset in preprocess\n",
    "# Encode any categorical)\n",
    "categorical_cols = ['WeightClass', 'BlueStance', 'RedStance', 'Finish']\n",
    "le = LabelEncoder()\n",
    "for col in categorical_cols:\n",
    "    df[col] = le.fit_transform(df[col])"
   ]
  },
  {
   "cell_type": "code",
   "execution_count": 79,
   "id": "7fc71f6f",
   "metadata": {},
   "outputs": [],
   "source": [
    "# Select all numerical data\n",
    "numeric_df = df.select_dtypes(include=['number'])\n",
    "\n",
    "to_drop = ['BlueAvgSigStrLanded', 'BlueAvgSubAtt', 'BlueAvgTDLanded', 'BlueTotalRoundsFought',\n",
    "           'BlueHeightCms', 'BlueReachCms', 'BlueWeightLbs', 'BlueAge', 'FinishRound', 'TotalFightTimeSecs', \n",
    "           'UFC_DebutDiff', 'BlueCurrELO']\n",
    "\n",
    "# Drop the above columns\n",
    "N = len(to_drop)\n",
    "for i in range(N):\n",
    "    if to_drop[i][:4] == \"Blue\":\n",
    "        to_drop.append(\"Red\" + to_drop[i][4:])\n",
    "\n",
    "numeric_df.drop(columns=to_drop, inplace=True)\n",
    "\n",
    "# Normalize our data\n",
    "scaler = StandardScaler()\n",
    "df[numeric_df.columns.to_list()] = scaler.fit_transform(df[numeric_df.columns.to_list()])"
   ]
  },
  {
   "cell_type": "markdown",
   "id": "4b8dae25",
   "metadata": {},
   "source": [
    "## Feature Selection\n",
    "\n",
    "To prevent overfitting with such a feature rich dataset, we can use methods like Recursive Feature Elimination (RFE) to help us narrow down our selection. This will allow us to choose features which separate data well and further aid prediction.\n",
    "\n",
    "We'll also create a train/test split."
   ]
  },
  {
   "cell_type": "code",
   "execution_count": 80,
   "id": "19494d64",
   "metadata": {},
   "outputs": [
    {
     "name": "stdout",
     "output_type": "stream",
     "text": [
      "Index(['RedExpectedValue', 'BlueExpectedValue', 'BlueCurrentWinStreak',\n",
      "       'BlueAvgSigStrPct', 'BlueAvgTDPct', 'RedAvgSigStrPct', 'RedAvgTDPct',\n",
      "       'RedLosses', 'RedWinsByDecision', 'RedDaysSinceLastFight',\n",
      "       'BlueDaysSinceLastFight', 'ExpectedValueDiff', 'CurrentLoseStreakDiff',\n",
      "       'CurrentWinStreakDiff', 'AvgSigStrLandedDiff', 'AvgSubAttDiff',\n",
      "       'AvgTDLandedDiff', 'LossesDiff', 'TotalRoundsFoughtDiff',\n",
      "       'ReachCmsDiff', 'WeightLbsDiff', 'AgeDiff', 'DaysSinceLastFightDiff',\n",
      "       'CurrELODiff'],\n",
      "      dtype='object')\n"
     ]
    }
   ],
   "source": [
    "X = numeric_df.drop(columns=['Winner'], axis=1)\n",
    "y = numeric_df['Winner']\n",
    "\n",
    "estimator = RandomForestClassifier(\n",
    "    random_state=42, \n",
    "    n_estimators=10,  \n",
    "    max_depth=5       \n",
    ")\n",
    "\n",
    "rfe = RFE(estimator, n_features_to_select=24)\n",
    "rfe.fit(X, y)\n",
    "\n",
    "# Get the selected features\n",
    "selected_features = X.columns[rfe.support_]\n",
    "X_selected = X[selected_features]\n",
    "print(selected_features)\n",
    "\n",
    "X_train, X_test, y_train, y_test = train_test_split(\n",
    "    X_selected,\n",
    "    y,\n",
    "    test_size=0.1,\n",
    "    random_state=42\n",
    ")"
   ]
  },
  {
   "cell_type": "markdown",
   "id": "58cf9425",
   "metadata": {},
   "source": [
    "## Training w/ XGBoost\n",
    "\n",
    "Let's define functions to to fit an XGBoost model and predict the train/test sets. We'll use a confusion\n",
    "matrix to display our results, beginning with an initial baseline model."
   ]
  },
  {
   "cell_type": "code",
   "execution_count": 81,
   "id": "3f32ca9c",
   "metadata": {},
   "outputs": [],
   "source": [
    "def xgb_predict(model: XGBClassifier, X_train, y_train, X_test, y_test, useTrainCV=True, cv_folds=5):\n",
    "    # Enable CrossValidation for hyperparameter finetuning\n",
    "    if useTrainCV:\n",
    "        xgb_params = model.get_xgb_params()\n",
    "        xgb_train = xgb.DMatrix(X_train, label=y_train)\n",
    "\n",
    "        cv_res = xgb.cv(xgb_params, xgb_train,\n",
    "                    nfold=cv_folds,\n",
    "                    metrics='auc',\n",
    "                    early_stopping_rounds=50\n",
    "        )\n",
    "        optimal_estimators = cv_res.shape[0]\n",
    "        model.set_params(n_estimators=optimal_estimators)\n",
    "        print(f\"Best number of estimators = {optimal_estimators}\\n\")\n",
    "\n",
    "    # Fit the model\n",
    "    model.fit(X_train, y_train)\n",
    "\n",
    "    # Predict the test set\n",
    "    test_predict = model.predict(X_test)\n",
    "    test_predprob = model.predict_proba(X_test)[:,1]\n",
    "\n",
    "    # Print results\n",
    "    print(\"Results:\")\n",
    "    print(f\"Accuracy: {accuracy_score(y_test, test_predict):.4f}\")\n",
    "    print(f\"AUC Score: {roc_auc_score(y_test, test_predprob):.4f}\")\n",
    "    return test_predict\n"
   ]
  },
  {
   "cell_type": "code",
   "execution_count": 82,
   "id": "5b44debf",
   "metadata": {},
   "outputs": [],
   "source": [
    "def plot_confusion_matrix(mat: np.ndarray):\n",
    "    \"\"\"Plot confusion matrix to display model results\"\"\"\n",
    "    palette = sns.color_palette(\"crest\", as_cmap=True)\n",
    "    ax = sns.heatmap(mat, \n",
    "                    cmap=palette, \n",
    "                    annot=True, \n",
    "                    fmt=\"d\", \n",
    "                    linewidths=0.5, \n",
    "                    linecolor='black')\n",
    "\n",
    "    ax.set_title('AUC Conf. Matrix Results')\n",
    "    ax.set_xlabel('Predicted Values')\n",
    "    ax.set_ylabel('Actual Values')\n",
    "    ax.xaxis.set_ticklabels(['False','True'])\n",
    "    ax.yaxis.set_ticklabels(['False','True'])\n",
    "    ax.set_ylim([0,2])\n",
    "\n",
    "    ax.invert_yaxis()\n",
    "    plt.show()"
   ]
  },
  {
   "cell_type": "code",
   "execution_count": 83,
   "id": "1332ba31",
   "metadata": {},
   "outputs": [
    {
     "name": "stdout",
     "output_type": "stream",
     "text": [
      "Best number of estimators = 10\n",
      "\n",
      "Results:\n",
      "Accuracy: 0.6126\n",
      "AUC Score: 0.6241\n"
     ]
    },
    {
     "data": {
      "image/png": "[encoded data removed]",
      "text/plain": [
       "<Figure size 640x480 with 2 Axes>"
      ]
     },
     "metadata": {},
     "output_type": "display_data"
    }
   ],
   "source": [
    "# Train binary classifier for moneyline winner\n",
    "model_v1 = XGBClassifier(random_state=42, n_jobs=-1, eval_metric='auc')\n",
    "preds_v1 = xgb_predict(model_v1, X_train, y_train, X_test, y_test)\n",
    "\n",
    "mat_v1 = confusion_matrix(y_test, preds_v1)\n",
    "plot_confusion_matrix(mat_v1)"
   ]
  }
 ],
 "metadata": {
  "kernelspec": {
   "display_name": "venv",
   "language": "python",
   "name": "python3"
  },
  "language_info": {
   "codemirror_mode": {
    "name": "ipython",
    "version": 3
   },
   "file_extension": ".py",
   "mimetype": "text/x-python",
   "name": "python",
   "nbconvert_exporter": "python",
   "pygments_lexer": "ipython3",
   "version": "3.13.2"
  }
 },
 "nbformat": 4,
 "nbformat_minor": 5
}

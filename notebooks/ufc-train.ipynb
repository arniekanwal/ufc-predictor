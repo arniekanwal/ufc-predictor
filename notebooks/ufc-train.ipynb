{
 "cells": [
  {
   "cell_type": "markdown",
   "id": "557b54fd",
   "metadata": {},
   "source": [
    "# UFC Predictor\n",
    "\n",
    "Train an AI model to predict UFC fights and method of victory.\n",
    "\n",
    "Notebook for:\n",
    "- Feature Selection\n",
    "- Feature encoding/normalization\n",
    "- Model Selection/Training/Validation"
   ]
  },
  {
   "cell_type": "code",
   "execution_count": 15,
   "id": "493a83f2",
   "metadata": {},
   "outputs": [
    {
     "name": "stdout",
     "output_type": "stream",
     "text": [
      "XGBoost version: 3.0.3\n",
      "PyTorch version: 2.8.0\n",
      "CUDA available: False\n"
     ]
    }
   ],
   "source": [
    "import pandas as pd\n",
    "import numpy as np\n",
    "\n",
    "import torch\n",
    "import torch.nn as nn\n",
    "import torch.optim as optim\n",
    "from torch.utils.data import Dataset, DataLoader\n",
    "\n",
    "import xgboost as xgb\n",
    "from sklearn.metrics import accuracy_score, log_loss\n",
    "from sklearn.preprocessing import OneHotEncoder, LabelEncoder, StandardScaler\n",
    "\n",
    "from sklearn.ensemble import RandomForestClassifier\n",
    "from sklearn.feature_selection import RFE\n",
    "\n",
    "import sys\n",
    "\n",
    "# Print out system info\n",
    "print(f\"XGBoost version: {xgb.__version__}\")\n",
    "print(f\"PyTorch version: {torch.__version__}\")\n",
    "print(f\"CUDA available: {torch.cuda.is_available()}\")"
   ]
  },
  {
   "cell_type": "code",
   "execution_count": 16,
   "id": "e8c96740",
   "metadata": {},
   "outputs": [
    {
     "name": "stdout",
     "output_type": "stream",
     "text": [
      "UFC dataframe shape: (6528, 83)\n",
      "<class 'pandas.core.frame.DataFrame'>\n",
      "RangeIndex: 6528 entries, 0 to 6527\n",
      "Data columns (total 83 columns):\n",
      " #   Column                  Non-Null Count  Dtype  \n",
      "---  ------                  --------------  -----  \n",
      " 0   RedFighter              6528 non-null   object \n",
      " 1   BlueFighter             6528 non-null   object \n",
      " 2   RedExpectedValue        6528 non-null   float64\n",
      " 3   BlueExpectedValue       6528 non-null   float64\n",
      " 4   Date                    6528 non-null   object \n",
      " 5   Location                6528 non-null   object \n",
      " 6   Country                 6528 non-null   object \n",
      " 7   Winner                  6528 non-null   int64  \n",
      " 8   TitleBout               6528 non-null   int64  \n",
      " 9   WeightClass             6528 non-null   object \n",
      " 10  Gender                  6528 non-null   object \n",
      " 11  NumberOfRounds          6528 non-null   int64  \n",
      " 12  BlueCurrentLoseStreak   6528 non-null   int64  \n",
      " 13  BlueCurrentWinStreak    6528 non-null   int64  \n",
      " 14  BlueDraws               6528 non-null   int64  \n",
      " 15  BlueAvgSigStrLanded     6528 non-null   float64\n",
      " 16  BlueAvgSigStrPct        6528 non-null   float64\n",
      " 17  BlueAvgSubAtt           6528 non-null   float64\n",
      " 18  BlueAvgTDLanded         6528 non-null   float64\n",
      " 19  BlueAvgTDPct            6528 non-null   float64\n",
      " 20  BlueLosses              6528 non-null   int64  \n",
      " 21  BlueTotalRoundsFought   6528 non-null   int64  \n",
      " 22  BlueTotalTitleBouts     6528 non-null   int64  \n",
      " 23  BlueWinsBySubmission    6528 non-null   int64  \n",
      " 24  BlueWins                6528 non-null   int64  \n",
      " 25  BlueStance              6525 non-null   object \n",
      " 26  BlueHeightCms           6528 non-null   float64\n",
      " 27  BlueReachCms            6528 non-null   float64\n",
      " 28  BlueWeightLbs           6528 non-null   int64  \n",
      " 29  RedCurrentLoseStreak    6528 non-null   int64  \n",
      " 30  RedCurrentWinStreak     6528 non-null   int64  \n",
      " 31  RedDraws                6528 non-null   int64  \n",
      " 32  RedAvgSigStrLanded      6528 non-null   float64\n",
      " 33  RedAvgSigStrPct         6528 non-null   float64\n",
      " 34  RedAvgSubAtt            6528 non-null   float64\n",
      " 35  RedAvgTDLanded          6528 non-null   float64\n",
      " 36  RedAvgTDPct             6528 non-null   float64\n",
      " 37  RedLosses               6528 non-null   int64  \n",
      " 38  RedTotalRoundsFought    6528 non-null   int64  \n",
      " 39  RedTotalTitleBouts      6528 non-null   int64  \n",
      " 40  RedWinsBySubmission     6528 non-null   int64  \n",
      " 41  RedWins                 6528 non-null   int64  \n",
      " 42  RedStance               6528 non-null   object \n",
      " 43  RedHeightCms            6528 non-null   float64\n",
      " 44  RedReachCms             6528 non-null   float64\n",
      " 45  RedWeightLbs            6528 non-null   int64  \n",
      " 46  RedAge                  6528 non-null   int64  \n",
      " 47  BlueAge                 6528 non-null   int64  \n",
      " 48  Finish                  6528 non-null   object \n",
      " 49  FinishRound             5906 non-null   float64\n",
      " 50  FinishRoundTime         5906 non-null   object \n",
      " 51  TotalFightTimeSecs      5906 non-null   float64\n",
      " 52  RedWinsByDecision       6528 non-null   int64  \n",
      " 53  RedWinsByKOTKO          6528 non-null   int64  \n",
      " 54  BlueWinsByDecision      6528 non-null   int64  \n",
      " 55  BlueWinsByKOTKO         6528 non-null   int64  \n",
      " 56  RedUFC_Debut            6528 non-null   int64  \n",
      " 57  BlueUFC_Debut           6528 non-null   int64  \n",
      " 58  RedDaysSinceLastFight   6528 non-null   int64  \n",
      " 59  BlueDaysSinceLastFight  6528 non-null   int64  \n",
      " 60  RedCurrELO              6528 non-null   float64\n",
      " 61  BlueCurrELO             6528 non-null   float64\n",
      " 62  ExpectedValueDiff       6528 non-null   float64\n",
      " 63  CurrentLoseStreakDiff   6528 non-null   int64  \n",
      " 64  CurrentWinStreakDiff    6528 non-null   int64  \n",
      " 65  DrawsDiff               6528 non-null   int64  \n",
      " 66  AvgSigStrLandedDiff     6528 non-null   float64\n",
      " 67  AvgSubAttDiff           6528 non-null   float64\n",
      " 68  AvgTDLandedDiff         6528 non-null   float64\n",
      " 69  LossesDiff              6528 non-null   int64  \n",
      " 70  TotalRoundsFoughtDiff   6528 non-null   int64  \n",
      " 71  TotalTitleBoutsDiff     6528 non-null   int64  \n",
      " 72  WinsBySubmissionDiff    6528 non-null   int64  \n",
      " 73  WinsDiff                6528 non-null   int64  \n",
      " 74  HeightCmsDiff           6528 non-null   float64\n",
      " 75  ReachCmsDiff            6528 non-null   float64\n",
      " 76  WeightLbsDiff           6528 non-null   int64  \n",
      " 77  AgeDiff                 6528 non-null   int64  \n",
      " 78  WinsByDecisionDiff      6528 non-null   int64  \n",
      " 79  WinsByKOTKODiff         6528 non-null   int64  \n",
      " 80  UFC_DebutDiff           6528 non-null   int64  \n",
      " 81  DaysSinceLastFightDiff  6528 non-null   int64  \n",
      " 82  CurrELODiff             6528 non-null   float64\n",
      "dtypes: float64(27), int64(45), object(11)\n",
      "memory usage: 4.1+ MB\n"
     ]
    }
   ],
   "source": [
    "df = pd.read_csv('../datasets/ufc-clean.csv')\n",
    "\n",
    "# Dataset shape and basic info\n",
    "print(\"UFC dataframe shape:\" , df.shape)          \n",
    "df.info()  "
   ]
  },
  {
   "cell_type": "code",
   "execution_count": null,
   "id": "c1fe6fd9",
   "metadata": {},
   "outputs": [],
   "source": [
    "categorical_cols = ['WeightClass', 'BlueStance', 'RedStance', 'Finish']\n",
    "\n",
    "# Encode any categorical)\n",
    "le = LabelEncoder()\n",
    "for col in categorical_cols:\n",
    "    df[col] = le.fit_transform(df[col])"
   ]
  },
  {
   "cell_type": "code",
   "execution_count": 18,
   "id": "19494d64",
   "metadata": {},
   "outputs": [],
   "source": [
    "numeric_df = df.select_dtypes(include=['number'])\n",
    "\n",
    "to_remove = set([\"Winner\", \"NumberOfRounds\", \"ExpectedValueDiff\", \"UFC_DebutDiff\", \"CurrELODiff\", \"RedWeightLbs\", \"BlueWeightLbs\"])\n",
    "feature_cols = set(numeric_df.columns.tolist())\n",
    "for col in to_remove:\n",
    "    feature_cols.remove(col)\n",
    "feature_cols = list(feature_cols)\n",
    "\n",
    "# Split into train/test (time-based)\n",
    "split_idx = int(len(df) * 0.8)\n",
    "train_df = numeric_df.iloc[:split_idx]\n",
    "test_df  = numeric_df.iloc[split_idx:]\n",
    "\n",
    "X_train, y_train = train_df[feature_cols], train_df['Winner']\n",
    "X_test,  y_test  = test_df[feature_cols],  test_df['Winner']\n"
   ]
  },
  {
   "cell_type": "code",
   "execution_count": 19,
   "id": "590a87cf",
   "metadata": {},
   "outputs": [
    {
     "name": "stdout",
     "output_type": "stream",
     "text": [
      "Index(['RedAvgSubAtt', 'RedAvgTDPct', 'AvgSigStrLandedDiff', 'AvgTDLandedDiff',\n",
      "       'BlueAvgTDLanded', 'RedCurrELO', 'AgeDiff', 'BlueDaysSinceLastFight',\n",
      "       'BlueAge', 'RedAge', 'TotalRoundsFoughtDiff', 'RedExpectedValue',\n",
      "       'BlueAvgTDPct', 'BlueAvgSigStrPct', 'BlueCurrELO', 'TotalFightTimeSecs',\n",
      "       'BlueExpectedValue', 'RedAvgTDLanded', 'LossesDiff',\n",
      "       'DaysSinceLastFightDiff', 'RedAvgSigStrLanded', 'RedAvgSigStrPct',\n",
      "       'RedDaysSinceLastFight', 'AvgSubAttDiff', 'BlueAvgSigStrLanded'],\n",
      "      dtype='object')\n"
     ]
    }
   ],
   "source": [
    "# Use a model to recursively eliminate features\n",
    "estimator = RandomForestClassifier(\n",
    "    random_state=42,\n",
    "    n_estimators=100,  \n",
    "    max_depth=10       \n",
    ")\n",
    "\n",
    "selector = RFE(estimator, n_features_to_select=25, step=1)\n",
    "selector.fit(X_train, y_train)\n",
    "\n",
    "selected_features = X_train.columns[selector.support_]\n",
    "print(selected_features)\n",
    "\n",
    "X_train = selector.transform(X_train)\n",
    "X_test = selector.transform(X_test)\n"
   ]
  },
  {
   "cell_type": "code",
   "execution_count": 20,
   "id": "1332ba31",
   "metadata": {},
   "outputs": [
    {
     "name": "stdout",
     "output_type": "stream",
     "text": [
      "Accuracy: 0.557, Log Loss: 0.756\n"
     ]
    }
   ],
   "source": [
    "\n",
    "\n",
    "# Train binary classifier for money line winner\n",
    "model = xgb.XGBClassifier(objective='binary:logistic', eval_metric='logloss')\n",
    "model.fit(X_train, y_train)\n",
    "\n",
    "# Predict probabilities and class labels\n",
    "y_prob = model.predict_proba(X_test)[:, 1]\n",
    "y_pred = (y_prob >= 0.5).astype(int)\n",
    "\n",
    "# Evaluate\n",
    "acc = accuracy_score(y_test, y_pred)\n",
    "ll  = log_loss(y_test, y_prob)\n",
    "\n",
    "print(f\"Accuracy: {acc:.3f}, Log Loss: {ll:.3f}\")"
   ]
  }
 ],
 "metadata": {
  "kernelspec": {
   "display_name": "venv",
   "language": "python",
   "name": "python3"
  },
  "language_info": {
   "codemirror_mode": {
    "name": "ipython",
    "version": 3
   },
   "file_extension": ".py",
   "mimetype": "text/x-python",
   "name": "python",
   "nbconvert_exporter": "python",
   "pygments_lexer": "ipython3",
   "version": "3.13.2"
  }
 },
 "nbformat": 4,
 "nbformat_minor": 5
}

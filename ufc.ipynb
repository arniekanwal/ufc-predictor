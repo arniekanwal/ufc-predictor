{
 "cells": [
  {
   "cell_type": "markdown",
   "id": "08c4815b",
   "metadata": {},
   "source": [
    "# UFC Predictor "
   ]
  },
  {
   "cell_type": "code",
   "execution_count": null,
   "id": "eabfdc48",
   "metadata": {},
   "outputs": [],
   "source": []
  }
 ],
 "metadata": {
  "kernelspec": {
   "display_name": "Python 3",
   "language": "python",
   "name": "python3"
  },
  "language_info": {
   "name": "python",
   "version": "3.11.9"
  }
 },
 "nbformat": 4,
 "nbformat_minor": 5
}
